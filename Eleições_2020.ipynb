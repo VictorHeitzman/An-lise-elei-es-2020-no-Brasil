{
  "nbformat": 4,
  "nbformat_minor": 0,
  "metadata": {
    "colab": {
      "provenance": [],
      "collapsed_sections": [
        "Vrs_Sm_7B26g"
      ],
      "toc_visible": true
    },
    "kernelspec": {
      "name": "python3",
      "display_name": "Python 3"
    },
    "language_info": {
      "name": "python"
    }
  },
  "cells": [
    {
      "cell_type": "code",
      "execution_count": null,
      "metadata": {
        "id": "4J1nejIA3eKR"
      },
      "outputs": [],
      "source": [
        "# modelagem de dados\n",
        "\n",
        "import pandas as pd\n",
        "import numpy as np\n",
        "\n",
        "# libs gráfica\n",
        "import plotly.express as px\n",
        "import plotly.graph_objects as go\n",
        "import seaborn as sns\n",
        "import matplotlib.pyplot as plt\n",
        "\n",
        "# avisos\n",
        "import warnings\n",
        "warnings.filterwarnings('ignore')\n",
        "\n",
        "# configurando pandas\n",
        "pd.set_option('display.max_rows', 200)\n",
        "pd.set_option('display.max_columns', 100)\n",
        "\n",
        "# configuração matplot\n",
        "plt.rcParams['figure.figsize'] = (15,6)\n",
        "plt.style.use('ggplot')"
      ]
    },
    {
      "cell_type": "markdown",
      "source": [
        "# **Importação dos dados**\n"
      ],
      "metadata": {
        "id": "VD8a-y2x6DM0"
      }
    },
    {
      "cell_type": "code",
      "source": [
        "# Dados\n",
        "basedados = pd.read_csv('/clean_data.csv')\n",
        "\n",
        "basedados.shape"
      ],
      "metadata": {
        "id": "8OnFwaA96VF8"
      },
      "execution_count": null,
      "outputs": []
    },
    {
      "cell_type": "code",
      "source": [
        "# verificar dados\n",
        "basedados.head()"
      ],
      "metadata": {
        "id": "9hhJ0coQ6hAa"
      },
      "execution_count": null,
      "outputs": []
    },
    {
      "cell_type": "code",
      "source": [
        "# info\n",
        "basedados.info()"
      ],
      "metadata": {
        "id": "HIFAGROY7BI5"
      },
      "execution_count": null,
      "outputs": []
    },
    {
      "cell_type": "code",
      "source": [
        "# nulos\n",
        "basedados.isnull().sum()"
      ],
      "metadata": {
        "id": "4P4X3E877sZm"
      },
      "execution_count": null,
      "outputs": []
    },
    {
      "cell_type": "code",
      "source": [
        "# campos unicos\n",
        "basedados.nunique()"
      ],
      "metadata": {
        "id": "jbiY1nG17x0A"
      },
      "execution_count": null,
      "outputs": []
    },
    {
      "cell_type": "code",
      "source": [
        "# remover coluna\n",
        "basedados.drop(columns = [ 'Unnamed: 0'], inplace=True)"
      ],
      "metadata": {
        "id": "A1V26Q537_k_"
      },
      "execution_count": null,
      "outputs": []
    },
    {
      "cell_type": "code",
      "source": [
        "basedados.head()"
      ],
      "metadata": {
        "id": "tNJcx_k2GJoj"
      },
      "execution_count": null,
      "outputs": []
    },
    {
      "cell_type": "markdown",
      "source": [
        "## **Análise macros**"
      ],
      "metadata": {
        "id": "k5TqKtKsBvTf"
      }
    },
    {
      "cell_type": "markdown",
      "source": [
        "## **Prefeitos eleitos no País**"
      ],
      "metadata": {
        "id": "Vrs_Sm_7B26g"
      }
    },
    {
      "cell_type": "code",
      "source": [
        "# campos nulos\n",
        "print(basedados['job'].unique())\n",
        "print(basedados['elector_count'].unique())"
      ],
      "metadata": {
        "id": "KpAv0ucHC4hM"
      },
      "execution_count": null,
      "outputs": []
    },
    {
      "cell_type": "code",
      "source": [
        "# Aplicando filtro\n",
        "\n",
        "query_prefeitos = basedados[\n",
        "    (basedados['job'] == 'prefeito') &\n",
        "    (basedados['elector_count'] == 's')\n",
        "]\n",
        "\n",
        "# dimensão\n",
        "query_prefeitos.shape"
      ],
      "metadata": {
        "id": "inqYcRvpDQkq"
      },
      "execution_count": null,
      "outputs": []
    },
    {
      "cell_type": "code",
      "source": [
        "# Agrupando quantidade de votos por partido\n",
        "votosPrefeitoPartido = query_prefeitos.groupby(by = ['main_party']).agg(\n",
        "    quantidade = ('candidate_vote_count', 'count')\n",
        ")\n",
        "\n",
        "votosPrefeitoPartido.head()"
      ],
      "metadata": {
        "id": "tza6zJy1FdZQ"
      },
      "execution_count": null,
      "outputs": []
    },
    {
      "cell_type": "code",
      "source": [
        "# quantidade de prefeitos eleitos\n",
        "qtdPrefeitosEleitos = votosPrefeitoPartido['quantidade'].sum()\n",
        "\n",
        "qtdPrefeitosEleitos"
      ],
      "metadata": {
        "id": "vjP3VGHIZCHL"
      },
      "execution_count": null,
      "outputs": []
    },
    {
      "cell_type": "code",
      "source": [
        "# gerando coluna %\n",
        "votosPrefeitoPartido['%'] = votosPrefeitoPartido['quantidade'] / qtdPrefeitosEleitos * 100\n",
        "votosPrefeitoPartido['%'] = round(votosPrefeitoPartido['%'],2)\n",
        "\n",
        "# ordenar\n",
        "votosPrefeitoPartido.sort_values('quantidade', inplace = True, ascending = False)\n",
        "\n",
        "votosPrefeitoPartido.head()"
      ],
      "metadata": {
        "id": "kTwq9RlqeAon"
      },
      "execution_count": null,
      "outputs": []
    },
    {
      "cell_type": "code",
      "source": [
        "# paleta de cores\n",
        "sns.color_palette('magma',len(votosPrefeitoPartido))"
      ],
      "metadata": {
        "id": "fGwJHPMpirAb"
      },
      "execution_count": null,
      "outputs": []
    },
    {
      "cell_type": "code",
      "source": [
        "# tamanho\n",
        "plt.figure( figsize = (20,6))\n",
        "\n",
        "# Paleta\n",
        "paletaCores = sns.color_palette('magma',len(votosPrefeitoPartido))\n",
        "\n",
        "# plot\n",
        "plt.bar(\n",
        "    votosPrefeitoPartido.index,\n",
        "    votosPrefeitoPartido['quantidade'],\n",
        "    width=0.9,\n",
        "    color=paletaCores \n",
        "    );\n",
        "\n",
        "# Título\n",
        "plt.title('Prefeitos eleitos no país', loc='left', fontsize=20, color='#404040', fontweight = 600);\n",
        "\n",
        "# Labels\n",
        "plt.ylabel('Quantidade de prefeitos')\n",
        "plt.xlabel('Partidos')\n",
        "plt.xticks(rotation=90);\n",
        "\n",
        "# Ajuste de escala do gráfico\n",
        "plt.ylim(0,\n",
        "         votosPrefeitoPartido['quantidade'].max() + (votosPrefeitoPartido['quantidade'].max() * 0.1)\n",
        "         )\n",
        "\n",
        "# incluindo os dados no gráfico\n",
        "for posicao, valor in enumerate(votosPrefeitoPartido['quantidade']):\n",
        "  plt.text(\n",
        "      # posicao x, y\n",
        "      posicao -0.3,\n",
        "      valor +10,\n",
        "      # valor\n",
        "      valor,\n",
        "      # paleta\n",
        "      color = paletaCores[posicao], \n",
        "      # tamanho\n",
        "      size=10,\n",
        "      # espesura\n",
        "      fontweight = 700\n",
        "  )\n",
        "\n",
        "  totalEleitos =votosPrefeitoPartido['quantidade'].sum()\n",
        "\n",
        "  # info complementar\n",
        "  plt.annotate(\n",
        "      f'total eleitos no Brasil: {totalEleitos}',\n",
        "      xy=(0.99,0.94),\n",
        "      xycoords='axes fraction',\n",
        "      ha='right',\n",
        "      va='center',\n",
        "      color='green',\n",
        "      fontsize=14,\n",
        "      fontweight=100,\n",
        "      bbox=dict(facecolor='#ffffff', edgecolor='green',boxstyle='round', pad=0.25)\n",
        "  )\n"
      ],
      "metadata": {
        "id": "9WTV4wHLhDSG"
      },
      "execution_count": null,
      "outputs": []
    },
    {
      "cell_type": "markdown",
      "source": [
        "## **Veriadores eleitos no País**"
      ],
      "metadata": {
        "id": "AHw9DkPxCVtk"
      }
    },
    {
      "cell_type": "code",
      "source": [
        "basedados"
      ],
      "metadata": {
        "id": "OyqP4BkkdAWV"
      },
      "execution_count": null,
      "outputs": []
    },
    {
      "cell_type": "code",
      "source": [
        "# Aplicando filtro\n",
        "\n",
        "query_vereadores = basedados[\n",
        "    (basedados['job'] == 'vereador') &\n",
        "    (basedados['elector_count'] == 's')\n",
        "]\n",
        "\n",
        "# dimensão\n",
        "query_vereadores.shape"
      ],
      "metadata": {
        "id": "ryaDKzwkZP5X"
      },
      "execution_count": null,
      "outputs": []
    },
    {
      "cell_type": "code",
      "source": [
        "# Agrupando quantidade de votos por partido\n",
        "votosVereadoresPartido = query_vereadores.groupby(by = ['main_party']).agg(\n",
        "    quantidade = ('candidate_vote_count', 'count')\n",
        ")\n",
        "\n",
        "votosVereadoresPartido.head()"
      ],
      "metadata": {
        "id": "T1yQhbwzZg5h"
      },
      "execution_count": null,
      "outputs": []
    },
    {
      "cell_type": "code",
      "source": [
        "# quantidade de Veriadores eleitos\n",
        "qtdVereadoresEleitos = votosVereadoresPartido['quantidade'].sum()\n",
        "\n",
        "qtdVereadoresEleitos"
      ],
      "metadata": {
        "id": "iIZhW-l2aQjH"
      },
      "execution_count": null,
      "outputs": []
    },
    {
      "cell_type": "code",
      "source": [
        "# gerando coluna %\n",
        "votosVereadoresPartido['%'] = votosVereadoresPartido['quantidade'] / qtdVereadoresEleitos * 100\n",
        "votosVereadoresPartido['%'] = round(votosVereadoresPartido['%'],2)\n",
        "\n",
        "# ordenar\n",
        "votosVereadoresPartido.sort_values('quantidade', inplace = True, ascending = False)\n",
        "\n",
        "votosVereadoresPartido.head()"
      ],
      "metadata": {
        "id": "_DbQdCpLaSzf"
      },
      "execution_count": null,
      "outputs": []
    },
    {
      "cell_type": "code",
      "source": [
        "# Plot\n",
        "plt.hlines(\n",
        "    y=votosVereadoresPartido.index,\n",
        "    xmin=0,\n",
        "    xmax=votosVereadoresPartido['quantidade'],\n",
        "    # Espesura da linha\n",
        "    lw = 5,\n",
        "    # Cores\n",
        "    color=paletaCores,\n",
        "    alpha=0.5\n",
        ");\n",
        "\n",
        "# plot de indicadores\n",
        "plt.scatter(\n",
        "    # Dados\n",
        "    votosVereadoresPartido['quantidade'],\n",
        "    votosVereadoresPartido.index,\n",
        "    # Tamanho\n",
        "    s=100,\n",
        "    # cor\n",
        "    color=paletaCores,\n",
        "    # Transparencia\n",
        "    alpha=0.8\n",
        ")\n",
        "\n",
        "totalEleitos =votosVereadoresPartido['quantidade'].sum()\n",
        "\n",
        "  # info complementar\n",
        "plt.annotate(\n",
        "    f'total eleitos no Brasil: {totalEleitos}',\n",
        "    xy=(0.99,0.94),\n",
        "    xycoords='axes fraction',\n",
        "    ha='right',\n",
        "    va='center',\n",
        "    color='green',\n",
        "    fontsize=14,\n",
        "    fontweight=100,\n",
        "    bbox=dict(facecolor='#ffffff', edgecolor='green',boxstyle='round', pad=0.25)\n",
        "  )\n",
        "\n",
        "plt.title('Vereadores eleitos no País', loc='left', fontsize=20, color='#404040', fontweight=500 );"
      ],
      "metadata": {
        "id": "wR2RjejEd-gC"
      },
      "execution_count": null,
      "outputs": []
    },
    {
      "cell_type": "markdown",
      "source": [
        "## **Análise de Correlação**"
      ],
      "metadata": {
        "id": "rb6miTEoCXo8"
      }
    },
    {
      "cell_type": "code",
      "source": [
        "# Verificar dimensão igual\n",
        "len(votosPrefeitoPartido), len(votosVereadoresPartido)"
      ],
      "metadata": {
        "id": "RXWHHHBVi1sO"
      },
      "execution_count": null,
      "outputs": []
    },
    {
      "cell_type": "code",
      "source": [
        "# Tabela\n",
        "tabCorrelacao = votosPrefeitoPartido['quantidade'].reset_index()\n",
        "\n",
        "# Cruzamento\n",
        "tabCorrelacao = pd.merge(tabCorrelacao, votosVereadoresPartido.reset_index(), on=['main_party'], how='inner')\n",
        "\n",
        "# Ajustar\n",
        "tabCorrelacao.columns = ['Partido', 'Prefeitos', 'Vereadores', '%']\n",
        "\n",
        "# Apagar\n",
        "tabCorrelacao.drop(columns=['%'], inplace=True)\n",
        "\n",
        "\n",
        "tabCorrelacao"
      ],
      "metadata": {
        "id": "rkBDYjlejCNw"
      },
      "execution_count": null,
      "outputs": []
    },
    {
      "cell_type": "code",
      "source": [
        "sns.regplot(\n",
        "    # dados\n",
        "    x = tabCorrelacao['Prefeitos'],\n",
        "    y = tabCorrelacao['Vereadores'],\n",
        "    # intervalo de confiança para estimar a regressão\n",
        "    ci = 95,\n",
        "    # cores\n",
        "    scatter_kws={\n",
        "        'color': 'blue',\n",
        "    's':80,\n",
        "    'alpha':0.5,\n",
        "    },\n",
        "    # cor da linha\n",
        "    line_kws={\n",
        "        'color' :'green',\n",
        "        'alpha': 0.2,\n",
        "        'lw':2\n",
        "    },\n",
        ");\n",
        "\n",
        "# título\n",
        "plt.title('Prefeitos x Vereadores');\n",
        "\n",
        "for linha in range(0,tabCorrelacao.shape[0]):\n",
        "  plt.text(\n",
        "      tabCorrelacao['Prefeitos'][linha] + 0.8,\n",
        "      tabCorrelacao['Vereadores'][linha],\n",
        "      tabCorrelacao['Partido'][linha],\n",
        "      size='medium',\n",
        "      color='gray',\n",
        "      weight='semibold'\n",
        "  )"
      ],
      "metadata": {
        "id": "TyzyAQRP95uR"
      },
      "execution_count": null,
      "outputs": []
    },
    {
      "cell_type": "markdown",
      "source": [
        "## **Plot tridimensional**"
      ],
      "metadata": {
        "id": "91i1yHuHCeXr"
      }
    },
    {
      "cell_type": "code",
      "source": [
        "quantidadeCandidatos = basedados.groupby(by=['main_party']).count().iloc[:,1].reset_index()\n",
        "\n",
        "quantidadeCandidatos.columns = ['Partido','Candidatos']\n",
        "\n",
        "quantidadeCandidatos.sort_values('Candidatos', inplace = True, ascending = False)\n",
        "\n",
        "quantidadeCandidatos.head()"
      ],
      "metadata": {
        "id": "_gl2reO_G0rN"
      },
      "execution_count": null,
      "outputs": []
    },
    {
      "cell_type": "code",
      "source": [
        "# Cruzar\n",
        "tabCorrelacao = pd.merge(tabCorrelacao, quantidadeCandidatos, on=['Partido'], how='inner')\n",
        "\n",
        "# Verificar\n",
        "tabCorrelacao.head()"
      ],
      "metadata": {
        "id": "ZbIH0u1QHJ93"
      },
      "execution_count": null,
      "outputs": []
    },
    {
      "cell_type": "code",
      "source": [
        "# Correlação\n",
        "tabCorrelacao.corr()"
      ],
      "metadata": {
        "id": "o0GcoV1xMPe0"
      },
      "execution_count": null,
      "outputs": []
    },
    {
      "cell_type": "code",
      "source": [
        "# Plot Tridimensional\n",
        "\n",
        "# Tamanho\n",
        "Figura = plt.figure( figsize=(15, 8) )\n",
        "\n",
        "# Instanciar\n",
        "Eixo = Figura.add_subplot( 111, projection='3d' )\n",
        "\n",
        "# Plot\n",
        "Eixo.scatter(\n",
        "    tabCorrelacao['Prefeitos'],\n",
        "    tabCorrelacao['Vereadores'],\n",
        "    tabCorrelacao['Candidatos'],\n",
        "    c='black',\n",
        "    s=100\n",
        ")\n",
        "\n",
        "# Rotacao\n",
        "Eixo.view_init(30, 185)\n",
        "\n",
        "# Labels\n",
        "Eixo.set_xlabel('Prefeitos')\n",
        "Eixo.set_ylabel('Vereadores')\n",
        "Eixo.set_zlabel('Cadidatos');"
      ],
      "metadata": {
        "id": "lwO-kA3bNf_q"
      },
      "execution_count": null,
      "outputs": []
    },
    {
      "cell_type": "code",
      "source": [
        "Figura = px.scatter_3d(\n",
        "    tabCorrelacao,\n",
        "    x='Prefeitos',\n",
        "    y='Vereadores',\n",
        "    z='Candidatos',\n",
        "    color='Partido',\n",
        "    opacity=0.7\n",
        ")\n",
        "\n",
        "Figura.show()"
      ],
      "metadata": {
        "id": "jAeTphTcYSdZ"
      },
      "execution_count": null,
      "outputs": []
    }
  ]
}